{
  "nbformat": 4,
  "nbformat_minor": 0,
  "metadata": {
    "colab": {
      "name": "Final Exam.ipynb",
      "provenance": [],
      "authorship_tag": "ABX9TyPySFCcEzDK5HZsGv1X8p9h",
      "include_colab_link": true
    },
    "kernelspec": {
      "name": "python3",
      "display_name": "Python 3"
    },
    "language_info": {
      "name": "python"
    }
  },
  "cells": [
    {
      "cell_type": "markdown",
      "metadata": {
        "id": "view-in-github",
        "colab_type": "text"
      },
      "source": [
        "<a href=\"https://colab.research.google.com/github/AllanGonzales/Linear-Algebra-58020/blob/main/Final_Exam.ipynb\" target=\"_parent\"><img src=\"https://colab.research.google.com/assets/colab-badge.svg\" alt=\"Open In Colab\"/></a>"
      ]
    },
    {
      "cell_type": "markdown",
      "source": [
        "FINAL EXAM"
      ],
      "metadata": {
        "id": "UvOs1reSIjjJ"
      }
    },
    {
      "cell_type": "markdown",
      "source": [
        "Problem 1\n"
      ],
      "metadata": {
        "id": "bFRtSI01OJ4_"
      }
    },
    {
      "cell_type": "code",
      "source": [
        "A = np.array ([[1,1,1],[1,0,4],[0,0,5]])\n",
        "print(f'Matrix A:\\n {A}')\n",
        "print()\n",
        "B = np.array ([[89],[89],[95]])\n",
        "print(f'Matrix B:\\n {A}')\n",
        "C = np.linalg.inv(A).dot(B)\n",
        "print(f'\\nInverse of Matrix  A:\\n {C}')\n"
      ],
      "metadata": {
        "colab": {
          "base_uri": "https://localhost:8080/"
        },
        "id": "Ek-zpNh8OLpL",
        "outputId": "d2832be6-a7ac-422c-aecf-76bd3eaab1fe"
      },
      "execution_count": 8,
      "outputs": [
        {
          "output_type": "stream",
          "name": "stdout",
          "text": [
            "Matrix A:\n",
            " [[1 1 1]\n",
            " [1 0 4]\n",
            " [0 0 5]]\n",
            "\n",
            "Matrix B:\n",
            " [[1 1 1]\n",
            " [1 0 4]\n",
            " [0 0 5]]\n",
            "\n",
            "Inverse of Matrix  A:\n",
            " [[13.]\n",
            " [57.]\n",
            " [19.]]\n"
          ]
        }
      ]
    },
    {
      "cell_type": "markdown",
      "source": [
        "Problem 2"
      ],
      "metadata": {
        "id": "x831ohATOMST"
      }
    },
    {
      "cell_type": "code",
      "source": [
        "A = np.array ([[3,-1,1],[9,3,-3],[-12,4,-4]])\n",
        "print('Matrix A:\\n {A}')\n",
        "\n",
        "#since it is a singular matrix , we cannot inverse it but we can still show the output\n",
        "\n",
        "inv_A = np.linalg.pinv(A)\n",
        "print(f'\\nInverse of Matrix A:\\n {inv_A}')\n",
        "\n",
        "B = np.array ([[5],[10],[-20]])\n",
        "print(f'Matrix A:\\n {A}')\n",
        "\n",
        "X = np.dot(inv_A, B)\n",
        "print(f'\\nDot product:\\n{X}')\n",
        "\n",
        "C= np.dot(A, X)\n",
        "print(f'\\nChecking :\\n{C}')\n"
      ],
      "metadata": {
        "colab": {
          "base_uri": "https://localhost:8080/"
        },
        "id": "0L09UfNfONlS",
        "outputId": "4085c246-d8ca-4ece-d612-f37aaca9e864"
      },
      "execution_count": 6,
      "outputs": [
        {
          "output_type": "stream",
          "name": "stdout",
          "text": [
            "Matrix A:\n",
            " {A}\n",
            "\n",
            "Inverse of Matrix A:\n",
            " [[ 0.00980392  0.05555556 -0.03921569]\n",
            " [-0.01470588  0.08333333  0.05882353]\n",
            " [ 0.01470588 -0.08333333 -0.05882353]]\n",
            "Matrix A:\n",
            " [[  3  -1   1]\n",
            " [  9   3  -3]\n",
            " [-12   4  -4]]\n",
            "\n",
            "Dot product:\n",
            "[[ 1.38888889]\n",
            " [-0.41666667]\n",
            " [ 0.41666667]]\n",
            "\n",
            "Checking :\n",
            "[[  5.]\n",
            " [ 10.]\n",
            " [-20.]]\n"
          ]
        }
      ]
    },
    {
      "cell_type": "markdown",
      "source": [
        "Problem 3"
      ],
      "metadata": {
        "id": "3nVGjfs7OOBN"
      }
    },
    {
      "cell_type": "code",
      "execution_count": 2,
      "metadata": {
        "colab": {
          "base_uri": "https://localhost:8080/"
        },
        "id": "4hd39bIhIfGB",
        "outputId": "323e9356-01bb-47c1-e47a-2f067ec2c70f"
      },
      "outputs": [
        {
          "output_type": "stream",
          "name": "stdout",
          "text": [
            "[[  8   5  -6]\n",
            " [-12  -9  12]\n",
            " [ -3  -3   5]] \n",
            "\n",
            "The eigenvalues are: \n",
            " [-1.  3.  2.]\n",
            "The eigenvectors are: \n",
            " [[ 0. -1.  1.]\n",
            " [-1.  1.  0.]\n",
            " [-0. -0.  1.]]\n"
          ]
        }
      ],
      "source": [
        "import numpy as np\n",
        "from numpy.linalg import eig\n",
        "\n",
        "A = np.array ([[8,5,-6],[-12,-9,12],[-3,-3,5]])\n",
        "print (A,\"\\n\")\n",
        "w,v= np.linalg.eig(A)\n",
        "\n",
        "print(\"The eigenvalues are: \\n\",w)\n",
        "print(\"The eigenvectors are: \\n\",v.round())"
      ]
    }
  ]
}