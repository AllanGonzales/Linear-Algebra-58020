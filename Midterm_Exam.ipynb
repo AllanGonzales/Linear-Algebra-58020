{
  "nbformat": 4,
  "nbformat_minor": 0,
  "metadata": {
    "colab": {
      "name": "Midterm Exam.ipynb",
      "provenance": [],
      "authorship_tag": "ABX9TyOp16dq/rTLUQ8sl5BYLxyt",
      "include_colab_link": true
    },
    "kernelspec": {
      "name": "python3",
      "display_name": "Python 3"
    },
    "language_info": {
      "name": "python"
    }
  },
  "cells": [
    {
      "cell_type": "markdown",
      "metadata": {
        "id": "view-in-github",
        "colab_type": "text"
      },
      "source": [
        "<a href=\"https://colab.research.google.com/github/AllanGonzales/Linear-Algebra-58020/blob/main/Midterm_Exam.ipynb\" target=\"_parent\"><img src=\"https://colab.research.google.com/assets/colab-badge.svg\" alt=\"Open In Colab\"/></a>"
      ]
    },
    {
      "cell_type": "markdown",
      "metadata": {
        "id": "Ch74eN-HDVFw"
      },
      "source": [
        "***Midterm Exam***"
      ]
    },
    {
      "cell_type": "markdown",
      "metadata": {
        "id": "DbV81p5Q-sOK"
      },
      "source": [
        "Question 1\n"
      ]
    },
    {
      "cell_type": "code",
      "metadata": {
        "colab": {
          "base_uri": "https://localhost:8080/"
        },
        "id": "1LRSGarA-XGT",
        "outputId": "f18cd6c9-0896-4b58-8b5b-11ecbb832fc4"
      },
      "source": [
        "import numpy as np\n",
        "A = np.array([[5,4,3,2,1],[1,2,3,4,5],[10,9,8,7,6],[6,7,8,9,10],[1,3,5,7,9]])\n",
        "print(A)"
      ],
      "execution_count": 1,
      "outputs": [
        {
          "output_type": "stream",
          "name": "stdout",
          "text": [
            "[[ 5  4  3  2  1]\n",
            " [ 1  2  3  4  5]\n",
            " [10  9  8  7  6]\n",
            " [ 6  7  8  9 10]\n",
            " [ 1  3  5  7  9]]\n"
          ]
        }
      ]
    },
    {
      "cell_type": "markdown",
      "metadata": {
        "id": "B-7duUxz-vGf"
      },
      "source": [
        "Question 2"
      ]
    },
    {
      "cell_type": "code",
      "metadata": {
        "colab": {
          "base_uri": "https://localhost:8080/"
        },
        "id": "j0lg7dOu-wL_",
        "outputId": "012d3fd6-417c-42b9-ee86-f1174d20f097"
      },
      "source": [
        "A = np.array([[1,1,1,1],[0,1,1,1],[0,0,1,1],[0,0,0,1]])\n",
        "print(A)"
      ],
      "execution_count": 5,
      "outputs": [
        {
          "output_type": "stream",
          "name": "stdout",
          "text": [
            "[[1 1 1 1]\n",
            " [0 1 1 1]\n",
            " [0 0 1 1]\n",
            " [0 0 0 1]]\n"
          ]
        }
      ]
    },
    {
      "cell_type": "markdown",
      "metadata": {
        "id": "yPhmdpMq_zmC"
      },
      "source": [
        "Question 3"
      ]
    },
    {
      "cell_type": "code",
      "metadata": {
        "colab": {
          "base_uri": "https://localhost:8080/"
        },
        "id": "pxRE_2wB_0bs",
        "outputId": "c12e14aa-14a2-4b93-bfc1-d684df02ed19"
      },
      "source": [
        "A =np.array([[6,1,6],[1,5,2],[6,2,7]])\n",
        "print(A)\n",
        "print(\"/n\")\n",
        "#prints transpose matrix\n",
        "\n",
        "print(np.transpose(A))"
      ],
      "execution_count": 13,
      "outputs": [
        {
          "output_type": "stream",
          "name": "stdout",
          "text": [
            "[[6 1 6]\n",
            " [1 5 2]\n",
            " [6 2 7]]\n",
            "/n\n",
            "[[6 1 6]\n",
            " [1 5 2]\n",
            " [6 2 7]]\n"
          ]
        }
      ]
    },
    {
      "cell_type": "markdown",
      "metadata": {
        "id": "-rGsk3jV_0pS"
      },
      "source": [
        "Question 4"
      ]
    },
    {
      "cell_type": "code",
      "metadata": {
        "colab": {
          "base_uri": "https://localhost:8080/"
        },
        "id": "2-3cugrU_1Z1",
        "outputId": "f125c003-b603-4ac7-c64d-ca9c4130869e"
      },
      "source": [
        "A=np.array(([[1,2,3],[2,3,3],[3,4,-2]]))\n",
        "B=(np.linalg.inv(A))\n",
        "print(B)"
      ],
      "execution_count": 2,
      "outputs": [
        {
          "output_type": "stream",
          "name": "stdout",
          "text": [
            "[[-3.6  3.2 -0.6]\n",
            " [ 2.6 -2.2  0.6]\n",
            " [-0.2  0.4 -0.2]]\n"
          ]
        }
      ]
    },
    {
      "cell_type": "markdown",
      "metadata": {
        "id": "sVURnQJcAeJY"
      },
      "source": [
        "Question 5"
      ]
    },
    {
      "cell_type": "code",
      "metadata": {
        "colab": {
          "base_uri": "https://localhost:8080/"
        },
        "id": "zifP-yGzAez8",
        "outputId": "022f4641-64d6-4fcd-88a1-aa3931939372"
      },
      "source": [
        "A = np.array([[1,2,3],[2,3,3],[3,4,-2]])\n",
        "print(A)\n",
        "print(np.linalg.det(A))\n",
        "print(round(np.linalg.det(A)))"
      ],
      "execution_count": 6,
      "outputs": [
        {
          "output_type": "stream",
          "name": "stdout",
          "text": [
            "[[ 1  2  3]\n",
            " [ 2  3  3]\n",
            " [ 3  4 -2]]\n",
            "5.000000000000001\n",
            "5\n"
          ]
        }
      ]
    },
    {
      "cell_type": "markdown",
      "metadata": {
        "id": "tO1_zgCpAe51"
      },
      "source": [
        "Question 6"
      ]
    },
    {
      "cell_type": "code",
      "metadata": {
        "colab": {
          "base_uri": "https://localhost:8080/"
        },
        "id": "pwPCO141Af0s",
        "outputId": "cd3c14bf-f066-46ef-8b20-c2253eadf1d7"
      },
      "source": [
        "c = np.array([[5,4,1],[10,9,4],[10,13,15]])\n",
        "inv_c = np.linalg.inv(c)\n",
        "print (c)\n",
        "print ()\n",
        "print (inv_c)\n",
        "\n",
        "d = np.array([[3.4],[8.8],[19.2]])\n",
        "\n",
        "x = np.dot(inv_c, d)\n",
        "print (\"roots =\")\n",
        "print (x)\n",
        "\n",
        "z = np.dot(c,x) #checking\n",
        "print('checking =')\n",
        "print (z)"
      ],
      "execution_count": 11,
      "outputs": [
        {
          "output_type": "stream",
          "name": "stdout",
          "text": [
            "[[ 5  4  1]\n",
            " [10  9  4]\n",
            " [10 13 15]]\n",
            "\n",
            "[[ 5.53333333 -3.13333333  0.46666667]\n",
            " [-7.33333333  4.33333333 -0.66666667]\n",
            " [ 2.66666667 -1.66666667  0.33333333]]\n",
            "roots =\n",
            "[[0.2]\n",
            " [0.4]\n",
            " [0.8]]\n",
            "checking =\n",
            "[[ 3.4]\n",
            " [ 8.8]\n",
            " [19.2]]\n"
          ]
        }
      ]
    }
  ]
}